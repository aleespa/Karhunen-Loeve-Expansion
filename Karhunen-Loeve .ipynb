{
 "cells": [
  {
   "cell_type": "code",
   "execution_count": 49,
   "metadata": {
    "collapsed": true
   },
   "outputs": [],
   "source": [
    "from __future__ import division\n",
    "from math import *\n",
    "import pandas as pd\n",
    "import numpy as np\n",
    "import plotly.offline as offline\n",
    "import plotly.graph_objs as go\n",
    "import plotly.plotly as py"
   ]
  },
  {
   "cell_type": "markdown",
   "metadata": {},
   "source": [
    "## Movimiento Browniano \n",
    "Simulación utilizando la expanción parcial de Karhunen-Loeve considenando $n$ terminos, la expanción esta dada por la siguiente fórmula: \n",
    "$$X_t (\\omega)=\\sqrt{2} \\sum _{k=0}^{\\infty} \\frac{2}{\\pi (2k+1)}\\sin[(k+\\frac{1}{2})\\pi t]\\xi _k(\\omega)$$\n",
    "Donde $\\xi_k$ son variables aleatorias independientes identicamentes distribuidas $N(0,1)$"
   ]
  },
  {
   "cell_type": "code",
   "execution_count": 61,
   "metadata": {},
   "outputs": [],
   "source": [
    "def BM(x, n = 10000):\n",
    "    Y = []\n",
    "    Z = []\n",
    "    for k in range(n):\n",
    "        Y.append(np.random.randn())\n",
    "        Z.append((2/pi)*(1/(2*k+1))*sin((k+0.5)*pi*x)*sqrt(2))\n",
    "    return np.inner(Y,Z)"
   ]
  },
  {
   "cell_type": "code",
   "execution_count": 62,
   "metadata": {},
   "outputs": [
    {
     "name": "stdout",
     "output_type": "stream",
     "text": [
      "CPU times: user 1min 48s, sys: 1.87 s, total: 1min 50s\n",
      "Wall time: 1min 3s\n"
     ]
    }
   ],
   "source": [
    "%%time\n",
    "X = np.arange(0,1,0.001)\n",
    "Y = map(BM,X)"
   ]
  },
  {
   "cell_type": "code",
   "execution_count": 63,
   "metadata": {},
   "outputs": [
    {
     "data": {
      "text/html": [
       "<iframe id=\"igraph\" scrolling=\"no\" style=\"border:none;\" seamless=\"seamless\" src=\"https://plot.ly/~aleespa/36.embed\" height=\"525px\" width=\"100%\"></iframe>"
      ],
      "text/plain": [
       "<plotly.tools.PlotlyDisplay object>"
      ]
     },
     "execution_count": 63,
     "metadata": {},
     "output_type": "execute_result"
    }
   ],
   "source": [
    "data = [go.Scatter(x=X, y=Y)]\n",
    "py.iplot(data,filename='serie')"
   ]
  },
  {
   "cell_type": "markdown",
   "metadata": {},
   "source": [
    "## Puente Browniano \n",
    "Simulación utilizando la expanción parcial de Karhunen-Loeve considenando $n$ terminos, la expanción esta dada por la siguiente fórmula: \n",
    "$$Y_t (\\omega)=\\sqrt{2} \\sum _{k=0}^{\\infty} \\frac{1}{\\pi (k+1)}\\sin((k+1) \\pi t)\\xi _k(\\omega)$$\n",
    "Donde $\\xi_k$ son variables aleatorias independientes identicamentes distribuidas $N(0,1)$"
   ]
  },
  {
   "cell_type": "code",
   "execution_count": 64,
   "metadata": {
    "collapsed": true
   },
   "outputs": [],
   "source": [
    "def PB(x, n = 10000):\n",
    "    Y = []\n",
    "    Z = []\n",
    "    for k in range(n):\n",
    "        Y.append(np.random.randn())\n",
    "        Z.append((1/pi)*(1/(k+1))*sin((k+1)*pi*x)*sqrt(2))\n",
    "    return np.inner(Y,Z)"
   ]
  },
  {
   "cell_type": "code",
   "execution_count": 67,
   "metadata": {},
   "outputs": [
    {
     "name": "stdout",
     "output_type": "stream",
     "text": [
      "CPU times: user 1min 45s, sys: 1.69 s, total: 1min 47s\n",
      "Wall time: 1min 3s\n"
     ]
    }
   ],
   "source": [
    "%%time\n",
    "X = np.arange(0,1,0.001)\n",
    "Y = map(PB,X)"
   ]
  },
  {
   "cell_type": "code",
   "execution_count": 68,
   "metadata": {},
   "outputs": [
    {
     "data": {
      "text/html": [
       "<iframe id=\"igraph\" scrolling=\"no\" style=\"border:none;\" seamless=\"seamless\" src=\"https://plot.ly/~aleespa/36.embed\" height=\"525px\" width=\"100%\"></iframe>"
      ],
      "text/plain": [
       "<plotly.tools.PlotlyDisplay object>"
      ]
     },
     "execution_count": 68,
     "metadata": {},
     "output_type": "execute_result"
    }
   ],
   "source": [
    "data = [go.Scatter(x=X, y=Y)]\n",
    "py.iplot(data,filename='serie')"
   ]
  }
 ],
 "metadata": {
  "kernelspec": {
   "display_name": "Python 2",
   "language": "python",
   "name": "python2"
  },
  "language_info": {
   "codemirror_mode": {
    "name": "ipython",
    "version": 2
   },
   "file_extension": ".py",
   "mimetype": "text/x-python",
   "name": "python",
   "nbconvert_exporter": "python",
   "pygments_lexer": "ipython2",
   "version": "2.7.14"
  }
 },
 "nbformat": 4,
 "nbformat_minor": 2
}
